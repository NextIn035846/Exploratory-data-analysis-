{
 "cells": [
  {
   "cell_type": "code",
   "execution_count": 1,
   "metadata": {},
   "outputs": [],
   "source": [
    "import numpy as np\n",
    "import pandas as pd\n"
   ]
  },
  {
   "cell_type": "code",
   "execution_count": 2,
   "metadata": {},
   "outputs": [],
   "source": [
    "df = pd.read_csv(\"Dataset/data0/aug_train.csv\")"
   ]
  },
  {
   "cell_type": "code",
   "execution_count": 3,
   "metadata": {},
   "outputs": [
    {
     "name": "stdout",
     "output_type": "stream",
     "text": [
      "<class 'pandas.core.frame.DataFrame'>\n",
      "RangeIndex: 19158 entries, 0 to 19157\n",
      "Data columns (total 14 columns):\n",
      " #   Column                  Non-Null Count  Dtype  \n",
      "---  ------                  --------------  -----  \n",
      " 0   enrollee_id             19158 non-null  int64  \n",
      " 1   city                    19158 non-null  object \n",
      " 2   city_development_index  19158 non-null  float64\n",
      " 3   gender                  14650 non-null  object \n",
      " 4   relevent_experience     19158 non-null  object \n",
      " 5   enrolled_university     18772 non-null  object \n",
      " 6   education_level         18698 non-null  object \n",
      " 7   major_discipline        16345 non-null  object \n",
      " 8   experience              19093 non-null  object \n",
      " 9   company_size            13220 non-null  object \n",
      " 10  company_type            13018 non-null  object \n",
      " 11  last_new_job            18735 non-null  object \n",
      " 12  training_hours          19158 non-null  int64  \n",
      " 13  target                  19158 non-null  float64\n",
      "dtypes: float64(2), int64(2), object(10)\n",
      "memory usage: 2.0+ MB\n"
     ]
    }
   ],
   "source": [
    "df.info()"
   ]
  },
  {
   "cell_type": "markdown",
   "metadata": {},
   "source": [
    "## Pandas Profilling"
   ]
  },
  {
   "cell_type": "code",
   "execution_count": 4,
   "metadata": {},
   "outputs": [
    {
     "data": {
      "application/vnd.jupyter.widget-view+json": {
       "model_id": "5790ac2753434ef48667fcf02d68431c",
       "version_major": 2,
       "version_minor": 0
      },
      "text/plain": [
       "Summarize dataset:   0%|          | 0/5 [00:00<?, ?it/s]"
      ]
     },
     "metadata": {},
     "output_type": "display_data"
    },
    {
     "data": {
      "application/vnd.jupyter.widget-view+json": {
       "model_id": "b369ad9c54a844ebb607890982a127f6",
       "version_major": 2,
       "version_minor": 0
      },
      "text/plain": [
       "Generate report structure:   0%|          | 0/1 [00:00<?, ?it/s]"
      ]
     },
     "metadata": {},
     "output_type": "display_data"
    },
    {
     "data": {
      "application/vnd.jupyter.widget-view+json": {
       "model_id": "4429a0945bcf4a35be17736aa431e051",
       "version_major": 2,
       "version_minor": 0
      },
      "text/plain": [
       "Render HTML:   0%|          | 0/1 [00:00<?, ?it/s]"
      ]
     },
     "metadata": {},
     "output_type": "display_data"
    },
    {
     "data": {
      "application/vnd.jupyter.widget-view+json": {
       "model_id": "ceb20158dc9b4618837ec6ab340ae15f",
       "version_major": 2,
       "version_minor": 0
      },
      "text/plain": [
       "Export report to file:   0%|          | 0/1 [00:00<?, ?it/s]"
      ]
     },
     "metadata": {},
     "output_type": "display_data"
    }
   ],
   "source": [
    "from pandas_profiling import ProfileReport\n",
    "\n",
    "prof = ProfileReport(df,explorative=True)\n",
    "prof.to_file(output_file='Pandas_Profiling_output.html')"
   ]
  },
  {
   "cell_type": "markdown",
   "metadata": {},
   "source": [
    "### Report:\n",
    "The pandas-profiling library generates a report having:\n",
    "\n",
    "- An overview of the dataset\n",
    "- Variable properties\n",
    "- Interaction of variables\n",
    "- Correlation of variables\n",
    "- Missing values\n",
    "- Sample data"
   ]
  },
  {
   "cell_type": "markdown",
   "metadata": {},
   "source": [
    "## Sweetviz"
   ]
  },
  {
   "cell_type": "code",
   "execution_count": 5,
   "metadata": {},
   "outputs": [
    {
     "name": "stdout",
     "output_type": "stream",
     "text": [
      "Requirement already satisfied: sweetviz in c:\\users\\acer\\anaconda3\\lib\\site-packages (2.1.3)\n",
      "Requirement already satisfied: pandas!=1.0.0,!=1.0.1,!=1.0.2,>=0.25.3 in c:\\users\\acer\\anaconda3\\lib\\site-packages (from sweetviz) (1.3.5)\n",
      "Requirement already satisfied: importlib-resources>=1.2.0 in c:\\users\\acer\\anaconda3\\lib\\site-packages (from sweetviz) (5.4.0)\n",
      "Requirement already satisfied: tqdm>=4.43.0 in c:\\users\\acer\\anaconda3\\lib\\site-packages (from sweetviz) (4.63.0)\n",
      "Requirement already satisfied: jinja2>=2.11.1 in c:\\users\\acer\\anaconda3\\lib\\site-packages (from sweetviz) (2.11.1)\n",
      "Requirement already satisfied: matplotlib>=3.1.3 in c:\\users\\acer\\anaconda3\\lib\\site-packages (from sweetviz) (3.5.1)\n",
      "Requirement already satisfied: scipy>=1.3.2 in c:\\users\\acer\\anaconda3\\lib\\site-packages (from sweetviz) (1.7.3)\n",
      "Requirement already satisfied: numpy>=1.16.0 in c:\\users\\acer\\anaconda3\\lib\\site-packages (from sweetviz) (1.18.1)\n",
      "Requirement already satisfied: pytz>=2017.3 in c:\\users\\acer\\anaconda3\\lib\\site-packages (from pandas!=1.0.0,!=1.0.1,!=1.0.2,>=0.25.3->sweetviz) (2019.3)\n",
      "Requirement already satisfied: python-dateutil>=2.7.3 in c:\\users\\acer\\anaconda3\\lib\\site-packages (from pandas!=1.0.0,!=1.0.1,!=1.0.2,>=0.25.3->sweetviz) (2.8.1)\n",
      "Requirement already satisfied: zipp>=3.1.0; python_version < \"3.10\" in c:\\users\\acer\\anaconda3\\lib\\site-packages (from importlib-resources>=1.2.0->sweetviz) (3.7.0)\n",
      "Requirement already satisfied: colorama; platform_system == \"Windows\" in c:\\users\\acer\\anaconda3\\lib\\site-packages (from tqdm>=4.43.0->sweetviz) (0.4.3)\n",
      "Requirement already satisfied: MarkupSafe>=0.23 in c:\\users\\acer\\anaconda3\\lib\\site-packages (from jinja2>=2.11.1->sweetviz) (2.0.1)\n",
      "Requirement already satisfied: fonttools>=4.22.0 in c:\\users\\acer\\anaconda3\\lib\\site-packages (from matplotlib>=3.1.3->sweetviz) (4.29.1)\n",
      "Requirement already satisfied: packaging>=20.0 in c:\\users\\acer\\anaconda3\\lib\\site-packages (from matplotlib>=3.1.3->sweetviz) (20.1)\n",
      "Requirement already satisfied: cycler>=0.10 in c:\\users\\acer\\anaconda3\\lib\\site-packages (from matplotlib>=3.1.3->sweetviz) (0.10.0)\n",
      "Requirement already satisfied: pillow>=6.2.0 in c:\\users\\acer\\anaconda3\\lib\\site-packages (from matplotlib>=3.1.3->sweetviz) (9.0.1)\n",
      "Requirement already satisfied: pyparsing>=2.2.1 in c:\\users\\acer\\anaconda3\\lib\\site-packages (from matplotlib>=3.1.3->sweetviz) (2.4.6)\n",
      "Requirement already satisfied: kiwisolver>=1.0.1 in c:\\users\\acer\\anaconda3\\lib\\site-packages (from matplotlib>=3.1.3->sweetviz) (1.1.0)\n",
      "Requirement already satisfied: six>=1.5 in c:\\users\\acer\\anaconda3\\lib\\site-packages (from python-dateutil>=2.7.3->pandas!=1.0.0,!=1.0.1,!=1.0.2,>=0.25.3->sweetviz) (1.14.0)\n",
      "Requirement already satisfied: setuptools in c:\\users\\acer\\anaconda3\\lib\\site-packages (from kiwisolver>=1.0.1->matplotlib>=3.1.3->sweetviz) (45.2.0.post20200210)\n"
     ]
    }
   ],
   "source": [
    "!pip install sweetviz"
   ]
  },
  {
   "cell_type": "code",
   "execution_count": 7,
   "metadata": {},
   "outputs": [],
   "source": [
    "import sweetviz as sv"
   ]
  },
  {
   "cell_type": "code",
   "execution_count": 8,
   "metadata": {},
   "outputs": [
    {
     "data": {
      "application/vnd.jupyter.widget-view+json": {
       "model_id": "dd7dedfd23b148b18ee45b1f2b87fcd2",
       "version_major": 2,
       "version_minor": 0
      },
      "text/plain": [
       "                                             |          | [  0%]   00:00 -> (? left)"
      ]
     },
     "metadata": {},
     "output_type": "display_data"
    }
   ],
   "source": [
    "sweet_Report = sv.analyze(df)"
   ]
  },
  {
   "cell_type": "code",
   "execution_count": 9,
   "metadata": {},
   "outputs": [
    {
     "name": "stdout",
     "output_type": "stream",
     "text": [
      "Report Sweet_Report_Output.html was generated! NOTEBOOK/COLAB USERS: the web browser MAY not pop up, regardless, the report IS saved in your notebook/colab files.\n"
     ]
    }
   ],
   "source": [
    "sweet_Report.show_html(\"Sweet_Report_Output.html\")"
   ]
  },
  {
   "cell_type": "markdown",
   "metadata": {},
   "source": [
    "### Report:\n",
    "The Sweetviz library generates a report having:\n",
    "\n",
    "- An overview of the dataset\n",
    "- Variable properties\n",
    "- Categorical associations\n",
    "- Numerical associations\n",
    "- Most frequent, smallest, largest values for numerical features"
   ]
  },
  {
   "cell_type": "markdown",
   "metadata": {},
   "source": [
    "## D-Tale"
   ]
  },
  {
   "cell_type": "code",
   "execution_count": 10,
   "metadata": {},
   "outputs": [
    {
     "name": "stdout",
     "output_type": "stream",
     "text": [
      "Requirement already satisfied: autoviz in c:\\users\\acer\\anaconda3\\lib\\site-packages (0.1.36)\n",
      "Requirement already satisfied: xgboost in c:\\users\\acer\\anaconda3\\lib\\site-packages (from autoviz) (1.5.2)\n",
      "Requirement already satisfied: ipython in c:\\users\\acer\\anaconda3\\lib\\site-packages (from autoviz) (7.12.0)\n",
      "Requirement already satisfied: emoji in c:\\users\\acer\\anaconda3\\lib\\site-packages (from autoviz) (1.6.3)\n",
      "Requirement already satisfied: matplotlib>=3.3.3 in c:\\users\\acer\\anaconda3\\lib\\site-packages (from autoviz) (3.5.1)\n",
      "Requirement already satisfied: scikit-learn in c:\\users\\acer\\anaconda3\\lib\\site-packages (from autoviz) (0.24.2)\n",
      "Requirement already satisfied: seaborn>=0.11.1 in c:\\users\\acer\\anaconda3\\lib\\site-packages (from autoviz) (0.11.2)\n",
      "Requirement already satisfied: wordcloud in c:\\users\\acer\\anaconda3\\lib\\site-packages (from autoviz) (1.8.1)\n",
      "Requirement already satisfied: xlrd in c:\\users\\acer\\anaconda3\\lib\\site-packages (from autoviz) (1.2.0)\n",
      "Requirement already satisfied: nltk in c:\\users\\acer\\anaconda3\\lib\\site-packages (from autoviz) (3.4.5)\n",
      "Requirement already satisfied: textblob in c:\\users\\acer\\anaconda3\\lib\\site-packages (from autoviz) (0.17.1)\n",
      "Requirement already satisfied: holoviews==1.14.6 in c:\\users\\acer\\anaconda3\\lib\\site-packages (from autoviz) (1.14.6)\n",
      "Requirement already satisfied: fsspec==0.8.3 in c:\\users\\acer\\anaconda3\\lib\\site-packages (from autoviz) (0.8.3)\n",
      "Requirement already satisfied: pandas in c:\\users\\acer\\anaconda3\\lib\\site-packages (from autoviz) (1.3.5)\n",
      "Requirement already satisfied: panel==0.12.6 in c:\\users\\acer\\anaconda3\\lib\\site-packages (from autoviz) (0.12.6)\n",
      "Requirement already satisfied: statsmodels in c:\\users\\acer\\anaconda3\\lib\\site-packages (from autoviz) (0.12.2)\n",
      "Requirement already satisfied: bokeh==2.4.2 in c:\\users\\acer\\anaconda3\\lib\\site-packages (from autoviz) (2.4.2)\n",
      "Requirement already satisfied: hvplot==0.7.3 in c:\\users\\acer\\anaconda3\\lib\\site-packages (from autoviz) (0.7.3)\n",
      "Requirement already satisfied: jupyter in c:\\users\\acer\\anaconda3\\lib\\site-packages (from autoviz) (1.0.0)\n",
      "Requirement already satisfied: numpy in c:\\users\\acer\\anaconda3\\lib\\site-packages (from xgboost->autoviz) (1.18.1)\n",
      "Requirement already satisfied: scipy in c:\\users\\acer\\anaconda3\\lib\\site-packages (from xgboost->autoviz) (1.7.3)\n",
      "Requirement already satisfied: decorator in c:\\users\\acer\\anaconda3\\lib\\site-packages (from ipython->autoviz) (4.4.1)\n",
      "Requirement already satisfied: prompt-toolkit!=3.0.0,!=3.0.1,<3.1.0,>=2.0.0 in c:\\users\\acer\\anaconda3\\lib\\site-packages (from ipython->autoviz) (3.0.3)\n",
      "Requirement already satisfied: setuptools>=18.5 in c:\\users\\acer\\anaconda3\\lib\\site-packages (from ipython->autoviz) (45.2.0.post20200210)\n",
      "Requirement already satisfied: jedi>=0.10 in c:\\users\\acer\\anaconda3\\lib\\site-packages (from ipython->autoviz) (0.14.1)\n",
      "Requirement already satisfied: pickleshare in c:\\users\\acer\\anaconda3\\lib\\site-packages (from ipython->autoviz) (0.7.5)\n",
      "Requirement already satisfied: pygments in c:\\users\\acer\\anaconda3\\lib\\site-packages (from ipython->autoviz) (2.5.2)\n",
      "Requirement already satisfied: colorama; sys_platform == \"win32\" in c:\\users\\acer\\anaconda3\\lib\\site-packages (from ipython->autoviz) (0.4.3)\n",
      "Requirement already satisfied: backcall in c:\\users\\acer\\anaconda3\\lib\\site-packages (from ipython->autoviz) (0.1.0)\n",
      "Requirement already satisfied: traitlets>=4.2 in c:\\users\\acer\\anaconda3\\lib\\site-packages (from ipython->autoviz) (4.3.3)\n",
      "Requirement already satisfied: fonttools>=4.22.0 in c:\\users\\acer\\anaconda3\\lib\\site-packages (from matplotlib>=3.3.3->autoviz) (4.29.1)\n",
      "Requirement already satisfied: pillow>=6.2.0 in c:\\users\\acer\\anaconda3\\lib\\site-packages (from matplotlib>=3.3.3->autoviz) (9.0.1)\n",
      "Requirement already satisfied: kiwisolver>=1.0.1 in c:\\users\\acer\\anaconda3\\lib\\site-packages (from matplotlib>=3.3.3->autoviz) (1.1.0)\n",
      "Requirement already satisfied: packaging>=20.0 in c:\\users\\acer\\anaconda3\\lib\\site-packages (from matplotlib>=3.3.3->autoviz) (20.1)\n",
      "Requirement already satisfied: python-dateutil>=2.7 in c:\\users\\acer\\anaconda3\\lib\\site-packages (from matplotlib>=3.3.3->autoviz) (2.8.1)\n",
      "Requirement already satisfied: cycler>=0.10 in c:\\users\\acer\\anaconda3\\lib\\site-packages (from matplotlib>=3.3.3->autoviz) (0.10.0)\n",
      "Requirement already satisfied: pyparsing>=2.2.1 in c:\\users\\acer\\anaconda3\\lib\\site-packages (from matplotlib>=3.3.3->autoviz) (2.4.6)\n",
      "Requirement already satisfied: joblib>=0.11 in c:\\users\\acer\\anaconda3\\lib\\site-packages (from scikit-learn->autoviz) (1.0.1)\n",
      "Requirement already satisfied: threadpoolctl>=2.0.0 in c:\\users\\acer\\anaconda3\\lib\\site-packages (from scikit-learn->autoviz) (3.1.0)\n",
      "Requirement already satisfied: six in c:\\users\\acer\\anaconda3\\lib\\site-packages (from nltk->autoviz) (1.14.0)\n",
      "Requirement already satisfied: colorcet in c:\\users\\acer\\anaconda3\\lib\\site-packages (from holoviews==1.14.6->autoviz) (3.0.0)\n",
      "Requirement already satisfied: pyviz-comms>=0.7.4 in c:\\users\\acer\\anaconda3\\lib\\site-packages (from holoviews==1.14.6->autoviz) (2.1.0)\n",
      "Requirement already satisfied: param<2.0,>=1.9.3 in c:\\users\\acer\\anaconda3\\lib\\site-packages (from holoviews==1.14.6->autoviz) (1.12.0)\n",
      "Requirement already satisfied: pytz>=2017.3 in c:\\users\\acer\\anaconda3\\lib\\site-packages (from pandas->autoviz) (2019.3)\n",
      "Requirement already satisfied: bleach in c:\\users\\acer\\anaconda3\\lib\\site-packages (from panel==0.12.6->autoviz) (3.1.0)\n",
      "Requirement already satisfied: pyct>=0.4.4 in c:\\users\\acer\\anaconda3\\lib\\site-packages (from panel==0.12.6->autoviz) (0.4.8)\n",
      "Requirement already satisfied: tqdm>=4.48.0 in c:\\users\\acer\\anaconda3\\lib\\site-packages (from panel==0.12.6->autoviz) (4.63.0)\n",
      "Requirement already satisfied: markdown in c:\\users\\acer\\anaconda3\\lib\\site-packages (from panel==0.12.6->autoviz) (3.3.4)\n",
      "Requirement already satisfied: requests in c:\\users\\acer\\anaconda3\\lib\\site-packages (from panel==0.12.6->autoviz) (2.27.1)\n",
      "Requirement already satisfied: patsy>=0.5 in c:\\users\\acer\\anaconda3\\lib\\site-packages (from statsmodels->autoviz) (0.5.1)\n",
      "Requirement already satisfied: typing-extensions>=3.10.0 in c:\\users\\acer\\anaconda3\\lib\\site-packages (from bokeh==2.4.2->autoviz) (3.10.0.0)\n",
      "Requirement already satisfied: Jinja2>=2.9 in c:\\users\\acer\\anaconda3\\lib\\site-packages (from bokeh==2.4.2->autoviz) (2.11.1)\n",
      "Requirement already satisfied: tornado>=5.1 in c:\\users\\acer\\anaconda3\\lib\\site-packages (from bokeh==2.4.2->autoviz) (6.0.3)\n",
      "Requirement already satisfied: PyYAML>=3.10 in c:\\users\\acer\\anaconda3\\lib\\site-packages (from bokeh==2.4.2->autoviz) (5.3)\n",
      "Requirement already satisfied: ipywidgets in c:\\users\\acer\\anaconda3\\lib\\site-packages (from jupyter->autoviz) (7.5.1)\n",
      "Requirement already satisfied: ipykernel in c:\\users\\acer\\anaconda3\\lib\\site-packages (from jupyter->autoviz) (5.1.4)\n",
      "Requirement already satisfied: nbconvert in c:\\users\\acer\\anaconda3\\lib\\site-packages (from jupyter->autoviz) (5.6.1)\n",
      "Requirement already satisfied: jupyter-console in c:\\users\\acer\\anaconda3\\lib\\site-packages (from jupyter->autoviz) (6.1.0)\n",
      "Requirement already satisfied: qtconsole in c:\\users\\acer\\anaconda3\\lib\\site-packages (from jupyter->autoviz) (4.6.0)\n",
      "Requirement already satisfied: notebook in c:\\users\\acer\\anaconda3\\lib\\site-packages (from jupyter->autoviz) (6.0.3)\n",
      "Requirement already satisfied: wcwidth in c:\\users\\acer\\anaconda3\\lib\\site-packages (from prompt-toolkit!=3.0.0,!=3.0.1,<3.1.0,>=2.0.0->ipython->autoviz) (0.1.8)\n",
      "Requirement already satisfied: parso>=0.5.0 in c:\\users\\acer\\anaconda3\\lib\\site-packages (from jedi>=0.10->ipython->autoviz) (0.5.2)\n",
      "Requirement already satisfied: ipython-genutils in c:\\users\\acer\\anaconda3\\lib\\site-packages (from traitlets>=4.2->ipython->autoviz) (0.2.0)\n",
      "Requirement already satisfied: webencodings in c:\\users\\acer\\anaconda3\\lib\\site-packages (from bleach->panel==0.12.6->autoviz) (0.5.1)\n",
      "Requirement already satisfied: importlib-metadata; python_version < \"3.8\" in c:\\users\\acer\\anaconda3\\lib\\site-packages (from markdown->panel==0.12.6->autoviz) (4.5.0)\n",
      "Requirement already satisfied: certifi>=2017.4.17 in c:\\users\\acer\\anaconda3\\lib\\site-packages (from requests->panel==0.12.6->autoviz) (2019.11.28)\n",
      "Requirement already satisfied: charset-normalizer~=2.0.0; python_version >= \"3\" in c:\\users\\acer\\anaconda3\\lib\\site-packages (from requests->panel==0.12.6->autoviz) (2.0.12)\n",
      "Requirement already satisfied: idna<4,>=2.5; python_version >= \"3\" in c:\\users\\acer\\anaconda3\\lib\\site-packages (from requests->panel==0.12.6->autoviz) (2.8)\n",
      "Requirement already satisfied: urllib3<1.27,>=1.21.1 in c:\\users\\acer\\anaconda3\\lib\\site-packages (from requests->panel==0.12.6->autoviz) (1.25.8)\n",
      "Requirement already satisfied: MarkupSafe>=0.23 in c:\\users\\acer\\anaconda3\\lib\\site-packages (from Jinja2>=2.9->bokeh==2.4.2->autoviz) (2.0.1)\n",
      "Requirement already satisfied: nbformat>=4.2.0 in c:\\users\\acer\\anaconda3\\lib\\site-packages (from ipywidgets->jupyter->autoviz) (5.0.4)\n",
      "Requirement already satisfied: widgetsnbextension~=3.5.0 in c:\\users\\acer\\anaconda3\\lib\\site-packages (from ipywidgets->jupyter->autoviz) (3.5.1)\n",
      "Requirement already satisfied: jupyter-client in c:\\users\\acer\\anaconda3\\lib\\site-packages (from ipykernel->jupyter->autoviz) (5.3.4)\n",
      "Requirement already satisfied: defusedxml in c:\\users\\acer\\anaconda3\\lib\\site-packages (from nbconvert->jupyter->autoviz) (0.6.0)\n",
      "Requirement already satisfied: pandocfilters>=1.4.1 in c:\\users\\acer\\anaconda3\\lib\\site-packages (from nbconvert->jupyter->autoviz) (1.4.2)\n",
      "Requirement already satisfied: entrypoints>=0.2.2 in c:\\users\\acer\\anaconda3\\lib\\site-packages (from nbconvert->jupyter->autoviz) (0.3)\n",
      "Requirement already satisfied: mistune<2,>=0.8.1 in c:\\users\\acer\\anaconda3\\lib\\site-packages (from nbconvert->jupyter->autoviz) (0.8.4)\n",
      "Requirement already satisfied: testpath in c:\\users\\acer\\anaconda3\\lib\\site-packages (from nbconvert->jupyter->autoviz) (0.4.4)\n",
      "Requirement already satisfied: jupyter-core in c:\\users\\acer\\anaconda3\\lib\\site-packages (from nbconvert->jupyter->autoviz) (4.6.1)\n",
      "Requirement already satisfied: terminado>=0.8.1 in c:\\users\\acer\\anaconda3\\lib\\site-packages (from notebook->jupyter->autoviz) (0.8.3)\n",
      "Requirement already satisfied: Send2Trash in c:\\users\\acer\\anaconda3\\lib\\site-packages (from notebook->jupyter->autoviz) (1.5.0)\n",
      "Requirement already satisfied: prometheus-client in c:\\users\\acer\\anaconda3\\lib\\site-packages (from notebook->jupyter->autoviz) (0.7.1)\n",
      "Requirement already satisfied: pyzmq>=17 in c:\\users\\acer\\anaconda3\\lib\\site-packages (from notebook->jupyter->autoviz) (18.1.1)\n",
      "Requirement already satisfied: zipp>=0.5 in c:\\users\\acer\\anaconda3\\lib\\site-packages (from importlib-metadata; python_version < \"3.8\"->markdown->panel==0.12.6->autoviz) (3.7.0)\n",
      "Requirement already satisfied: jsonschema!=2.5.0,>=2.4 in c:\\users\\acer\\anaconda3\\lib\\site-packages (from nbformat>=4.2.0->ipywidgets->jupyter->autoviz) (3.2.0)\n",
      "Requirement already satisfied: pywin32>=1.0; sys_platform == \"win32\" in c:\\users\\acer\\anaconda3\\lib\\site-packages (from jupyter-client->ipykernel->jupyter->autoviz) (227)\n",
      "Requirement already satisfied: pyrsistent>=0.14.0 in c:\\users\\acer\\anaconda3\\lib\\site-packages (from jsonschema!=2.5.0,>=2.4->nbformat>=4.2.0->ipywidgets->jupyter->autoviz) (0.15.7)\n",
      "Requirement already satisfied: attrs>=17.4.0 in c:\\users\\acer\\anaconda3\\lib\\site-packages (from jsonschema!=2.5.0,>=2.4->nbformat>=4.2.0->ipywidgets->jupyter->autoviz) (19.3.0)\n"
     ]
    }
   ],
   "source": [
    "!pip install autoviz"
   ]
  },
  {
   "cell_type": "code",
   "execution_count": 11,
   "metadata": {},
   "outputs": [
    {
     "data": {
      "text/html": [
       "\n",
       "        <iframe\n",
       "            width=\"100%\"\n",
       "            height=\"475\"\n",
       "            src=\"http://DESKTOP-RITVSGJ:40000/dtale/iframe/1\"\n",
       "            frameborder=\"0\"\n",
       "            allowfullscreen\n",
       "        ></iframe>\n",
       "        "
      ],
      "text/plain": [
       "<IPython.lib.display.IFrame at 0x170a38d1848>"
      ]
     },
     "metadata": {},
     "output_type": "display_data"
    },
    {
     "data": {
      "text/plain": []
     },
     "execution_count": 11,
     "metadata": {},
     "output_type": "execute_result"
    }
   ],
   "source": [
    "import dtale\n",
    "dtale.show(df)"
   ]
  },
  {
   "cell_type": "code",
   "execution_count": null,
   "metadata": {},
   "outputs": [],
   "source": []
  }
 ],
 "metadata": {
  "kernelspec": {
   "display_name": "Python 3",
   "language": "python",
   "name": "python3"
  },
  "language_info": {
   "codemirror_mode": {
    "name": "ipython",
    "version": 3
   },
   "file_extension": ".py",
   "mimetype": "text/x-python",
   "name": "python",
   "nbconvert_exporter": "python",
   "pygments_lexer": "ipython3",
   "version": "3.7.6"
  }
 },
 "nbformat": 4,
 "nbformat_minor": 4
}
